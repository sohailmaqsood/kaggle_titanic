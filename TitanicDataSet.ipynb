{
  "nbformat": 4,
  "nbformat_minor": 0,
  "metadata": {
    "colab": {
      "name": "TitanicDataSet",
      "provenance": []
    },
    "kernelspec": {
      "name": "python3",
      "display_name": "Python 3"
    },
    "language_info": {
      "name": "python"
    }
  },
  "cells": [
    {
      "cell_type": "markdown",
      "metadata": {
        "id": "G2dKpwWMokTs"
      },
      "source": [
        "Problem can be found \n",
        "[here](https://www.kaggle.com/c/titanic/overview)"
      ]
    },
    {
      "cell_type": "code",
      "metadata": {
        "id": "fYaL_yyoZAr_"
      },
      "source": [
        "#importing the libaries\n",
        "import pandas as pd\n",
        "import numpy as np\n",
        "import matplotlib.pyplot as plt\n",
        "import seaborn as sns\n",
        "from sklearn.metrics import accuracy_score\n",
        "from sklearn.preprocessing import StandardScaler,LabelEncoder"
      ],
      "execution_count": 1,
      "outputs": []
    },
    {
      "cell_type": "code",
      "metadata": {
        "id": "rwaRKBluZnJz"
      },
      "source": [
        "#lets take the dataset in dataframe for analysis purpose\n",
        "train = pd.read_csv('train.csv')\n",
        "test = pd.read_csv('test.csv')"
      ],
      "execution_count": 2,
      "outputs": []
    },
    {
      "cell_type": "code",
      "metadata": {
        "id": "5xofgfAJc5uO"
      },
      "source": [
        "#maintaining a original copy for future reference\n",
        "\n",
        "train_orig = train.copy()\n",
        "test_orig = test.copy()"
      ],
      "execution_count": 3,
      "outputs": []
    },
    {
      "cell_type": "code",
      "metadata": {
        "colab": {
          "base_uri": "https://localhost:8080/"
        },
        "id": "kV707sNop65p",
        "outputId": "bdd4e8e2-5e3a-474b-9b72-7d2b3cefc251"
      },
      "source": [
        "#lets list the columns and types\n",
        "train.info()"
      ],
      "execution_count": 4,
      "outputs": [
        {
          "output_type": "stream",
          "text": [
            "<class 'pandas.core.frame.DataFrame'>\n",
            "RangeIndex: 891 entries, 0 to 890\n",
            "Data columns (total 12 columns):\n",
            " #   Column       Non-Null Count  Dtype  \n",
            "---  ------       --------------  -----  \n",
            " 0   PassengerId  891 non-null    int64  \n",
            " 1   Survived     891 non-null    int64  \n",
            " 2   Pclass       891 non-null    int64  \n",
            " 3   Name         891 non-null    object \n",
            " 4   Sex          891 non-null    object \n",
            " 5   Age          714 non-null    float64\n",
            " 6   SibSp        891 non-null    int64  \n",
            " 7   Parch        891 non-null    int64  \n",
            " 8   Ticket       891 non-null    object \n",
            " 9   Fare         891 non-null    float64\n",
            " 10  Cabin        204 non-null    object \n",
            " 11  Embarked     889 non-null    object \n",
            "dtypes: float64(2), int64(5), object(5)\n",
            "memory usage: 83.7+ KB\n"
          ],
          "name": "stdout"
        }
      ]
    },
    {
      "cell_type": "code",
      "metadata": {
        "colab": {
          "base_uri": "https://localhost:8080/"
        },
        "id": "NcM_5s9J6tMj",
        "outputId": "0b665020-5baa-44fa-d0d7-50e878e9793b"
      },
      "source": [
        "test.info()"
      ],
      "execution_count": 5,
      "outputs": [
        {
          "output_type": "stream",
          "text": [
            "<class 'pandas.core.frame.DataFrame'>\n",
            "RangeIndex: 418 entries, 0 to 417\n",
            "Data columns (total 11 columns):\n",
            " #   Column       Non-Null Count  Dtype  \n",
            "---  ------       --------------  -----  \n",
            " 0   PassengerId  418 non-null    int64  \n",
            " 1   Pclass       418 non-null    int64  \n",
            " 2   Name         418 non-null    object \n",
            " 3   Sex          418 non-null    object \n",
            " 4   Age          332 non-null    float64\n",
            " 5   SibSp        418 non-null    int64  \n",
            " 6   Parch        418 non-null    int64  \n",
            " 7   Ticket       418 non-null    object \n",
            " 8   Fare         417 non-null    float64\n",
            " 9   Cabin        91 non-null     object \n",
            " 10  Embarked     418 non-null    object \n",
            "dtypes: float64(2), int64(4), object(5)\n",
            "memory usage: 36.0+ KB\n"
          ],
          "name": "stdout"
        }
      ]
    },
    {
      "cell_type": "code",
      "metadata": {
        "colab": {
          "base_uri": "https://localhost:8080/"
        },
        "id": "swdulOr9dCxc",
        "outputId": "dd7eaf0d-0b8c-4a21-81b2-ea9fd4ec3960"
      },
      "source": [
        "#gives the list of columns with missing valuess\n",
        "a = train.isnull().sum()\n",
        "a[a > 0]"
      ],
      "execution_count": 6,
      "outputs": [
        {
          "output_type": "execute_result",
          "data": {
            "text/plain": [
              "Age         177\n",
              "Cabin       687\n",
              "Embarked      2\n",
              "dtype: int64"
            ]
          },
          "metadata": {
            "tags": []
          },
          "execution_count": 6
        }
      ]
    },
    {
      "cell_type": "code",
      "metadata": {
        "id": "bdCUjZeqgfj9",
        "colab": {
          "base_uri": "https://localhost:8080/"
        },
        "outputId": "b21006e9-f49d-4364-9089-d43b2d98bf55"
      },
      "source": [
        "a = test.isnull().sum()\n",
        "a[a>0]"
      ],
      "execution_count": 7,
      "outputs": [
        {
          "output_type": "execute_result",
          "data": {
            "text/plain": [
              "Age       86\n",
              "Fare       1\n",
              "Cabin    327\n",
              "dtype: int64"
            ]
          },
          "metadata": {
            "tags": []
          },
          "execution_count": 7
        }
      ]
    },
    {
      "cell_type": "code",
      "metadata": {
        "id": "SnbxUdCFcB_D",
        "colab": {
          "base_uri": "https://localhost:8080/",
          "height": 941
        },
        "outputId": "5d203cdc-c7f9-4f21-fde7-ed5442c50906"
      },
      "source": [
        "#let check the column distribution for columns\n",
        "plt.figure()\n",
        "plt.subplots_adjust(bottom=2,top=8,left=5,right=7)\n",
        "plt.subplot(231)\n",
        "train['Sex'].value_counts().plot.bar(figsize=(5,2),title='Sex')\n",
        "plt.subplot(232)\n",
        "train['Embarked'].value_counts().plot.bar(figsize=(5,2),title='Embarked')\n",
        "plt.subplot(233)\n",
        "train['Pclass'].value_counts().plot.bar(figsize=(5,2),title='Passenger Class')\n",
        "plt.subplot(234)\n",
        "train['SibSp'].value_counts().plot.bar(figsize=(5,2),title='# of siblings or sponse on board')\n",
        "plt.subplot(235)\n",
        "train['Parch'].value_counts().plot.bar(figsize=(5,2),title='# of parents or children on board')"
      ],
      "execution_count": 8,
      "outputs": [
        {
          "output_type": "execute_result",
          "data": {
            "text/plain": [
              "<matplotlib.axes._subplots.AxesSubplot at 0x7fb4b51ae1d0>"
            ]
          },
          "metadata": {
            "tags": []
          },
          "execution_count": 8
        },
        {
          "output_type": "display_data",
          "data": {
            "image/png": "[encoded data removed]",
            "text/plain": [
              "<Figure size 360x144 with 5 Axes>"
            ]
          },
          "metadata": {
            "tags": [],
            "needs_background": "light"
          }
        }
      ]
    },
    {
      "cell_type": "code",
      "metadata": {
        "colab": {
          "base_uri": "https://localhost:8080/",
          "height": 279
        },
        "id": "0DvQPXnysygo",
        "outputId": "37d6ea95-c517-409e-fbe7-b2b24854ba6a"
      },
      "source": [
        "#lets check distribution on dependent variable\n",
        "train['Survived'].value_counts(normalize=True).plot.bar()"
      ],
      "execution_count": 9,
      "outputs": [
        {
          "output_type": "execute_result",
          "data": {
            "text/plain": [
              "<matplotlib.axes._subplots.AxesSubplot at 0x7fb4b5b24a10>"
            ]
          },
          "metadata": {
            "tags": []
          },
          "execution_count": 9
        },
        {
          "output_type": "display_data",
          "data": {
            "image/png": "[encoded data removed]",
            "text/plain": [
              "<Figure size 432x288 with 1 Axes>"
            ]
          },
          "metadata": {
            "tags": [],
            "needs_background": "light"
          }
        }
      ]
    },
    {
      "cell_type": "markdown",
      "metadata": {
        "id": "WmMOXsH4uQL4"
      },
      "source": [
        "Dataset is not fully balanced. Number of Survivers is lesser (around 40%)"
      ]
    },
    {
      "cell_type": "code",
      "metadata": {
        "colab": {
          "base_uri": "https://localhost:8080/"
        },
        "id": "IGYsRGLwuMl4",
        "outputId": "2b89af15-b68c-4542-c9c6-74690ead390a"
      },
      "source": [
        "#lets check the count of unique values in dataframe\n",
        "train.nunique(axis=0)"
      ],
      "execution_count": 10,
      "outputs": [
        {
          "output_type": "execute_result",
          "data": {
            "text/plain": [
              "PassengerId    891\n",
              "Survived         2\n",
              "Pclass           3\n",
              "Name           891\n",
              "Sex              2\n",
              "Age             88\n",
              "SibSp            7\n",
              "Parch            7\n",
              "Ticket         681\n",
              "Fare           248\n",
              "Cabin          147\n",
              "Embarked         3\n",
              "dtype: int64"
            ]
          },
          "metadata": {
            "tags": []
          },
          "execution_count": 10
        }
      ]
    },
    {
      "cell_type": "code",
      "metadata": {
        "colab": {
          "base_uri": "https://localhost:8080/"
        },
        "id": "zUiVShrVz3Dp",
        "outputId": "dc7d0069-0ad0-4a15-832a-33bc4aaa0391"
      },
      "source": [
        "#to see the column statistics\n",
        "train['Age'].describe()"
      ],
      "execution_count": 11,
      "outputs": [
        {
          "output_type": "execute_result",
          "data": {
            "text/plain": [
              "count    714.000000\n",
              "mean      29.699118\n",
              "std       14.526497\n",
              "min        0.420000\n",
              "25%       20.125000\n",
              "50%       28.000000\n",
              "75%       38.000000\n",
              "max       80.000000\n",
              "Name: Age, dtype: float64"
            ]
          },
          "metadata": {
            "tags": []
          },
          "execution_count": 11
        }
      ]
    },
    {
      "cell_type": "code",
      "metadata": {
        "id": "Yhi4JsiouUD3"
      },
      "source": [
        "#replace the missing values with Median age\n",
        "train['Age'].fillna(train['Age'].mean(),inplace=True)\n",
        "test['Age'].fillna(test['Age'].mean(),inplace=True)"
      ],
      "execution_count": 12,
      "outputs": []
    },
    {
      "cell_type": "code",
      "metadata": {
        "id": "r2zUJ5HV1X1x"
      },
      "source": [
        "#binning age\n",
        "bin = [i for i in range(0,85,5)]\n",
        "test['bin_age'] = pd.cut(test['Age'],bins=bin)\n",
        "train['bin_age'] = pd.cut(train['Age'],bins=bin)"
      ],
      "execution_count": 13,
      "outputs": []
    },
    {
      "cell_type": "code",
      "metadata": {
        "colab": {
          "base_uri": "https://localhost:8080/",
          "height": 337
        },
        "id": "y6zEwrjm7hl4",
        "outputId": "ca641b82-e4e6-4ea5-be78-b49bc4f42e15"
      },
      "source": [
        "sns.heatmap(train.corr())"
      ],
      "execution_count": 14,
      "outputs": [
        {
          "output_type": "execute_result",
          "data": {
            "text/plain": [
              "<matplotlib.axes._subplots.AxesSubplot at 0x7fb4b51c1e90>"
            ]
          },
          "metadata": {
            "tags": []
          },
          "execution_count": 14
        },
        {
          "output_type": "display_data",
          "data": {
            "image/png": "[encoded data removed]",
            "text/plain": [
              "<Figure size 432x288 with 2 Axes>"
            ]
          },
          "metadata": {
            "tags": [],
            "needs_background": "light"
          }
        }
      ]
    },
    {
      "cell_type": "code",
      "metadata": {
        "colab": {
          "base_uri": "https://localhost:8080/",
          "height": 266
        },
        "id": "-dRFABXX7tFs",
        "outputId": "50ae924e-a27f-4ddf-e4d3-81521a8798f2"
      },
      "source": [
        "train.corr()"
      ],
      "execution_count": 15,
      "outputs": [
        {
          "output_type": "execute_result",
          "data": {
            "text/html": [
              "<div>\n",
              "<style scoped>\n",
              "    .dataframe tbody tr th:only-of-type {\n",
              "        vertical-align: middle;\n",
              "    }\n",
              "\n",
              "    .dataframe tbody tr th {\n",
              "        vertical-align: top;\n",
              "    }\n",
              "\n",
              "    .dataframe thead th {\n",
              "        text-align: right;\n",
              "    }\n",
              "</style>\n",
              "<table border=\"1\" class=\"dataframe\">\n",
              "  <thead>\n",
              "    <tr style=\"text-align: right;\">\n",
              "      <th></th>\n",
              "      <th>PassengerId</th>\n",
              "      <th>Survived</th>\n",
              "      <th>Pclass</th>\n",
              "      <th>Age</th>\n",
              "      <th>SibSp</th>\n",
              "      <th>Parch</th>\n",
              "      <th>Fare</th>\n",
              "    </tr>\n",
              "  </thead>\n",
              "  <tbody>\n",
              "    <tr>\n",
              "      <th>PassengerId</th>\n",
              "      <td>1.000000</td>\n",
              "      <td>-0.005007</td>\n",
              "      <td>-0.035144</td>\n",
              "      <td>0.033207</td>\n",
              "      <td>-0.057527</td>\n",
              "      <td>-0.001652</td>\n",
              "      <td>0.012658</td>\n",
              "    </tr>\n",
              "    <tr>\n",
              "      <th>Survived</th>\n",
              "      <td>-0.005007</td>\n",
              "      <td>1.000000</td>\n",
              "      <td>-0.338481</td>\n",
              "      <td>-0.069809</td>\n",
              "      <td>-0.035322</td>\n",
              "      <td>0.081629</td>\n",
              "      <td>0.257307</td>\n",
              "    </tr>\n",
              "    <tr>\n",
              "      <th>Pclass</th>\n",
              "      <td>-0.035144</td>\n",
              "      <td>-0.338481</td>\n",
              "      <td>1.000000</td>\n",
              "      <td>-0.331339</td>\n",
              "      <td>0.083081</td>\n",
              "      <td>0.018443</td>\n",
              "      <td>-0.549500</td>\n",
              "    </tr>\n",
              "    <tr>\n",
              "      <th>Age</th>\n",
              "      <td>0.033207</td>\n",
              "      <td>-0.069809</td>\n",
              "      <td>-0.331339</td>\n",
              "      <td>1.000000</td>\n",
              "      <td>-0.232625</td>\n",
              "      <td>-0.179191</td>\n",
              "      <td>0.091566</td>\n",
              "    </tr>\n",
              "    <tr>\n",
              "      <th>SibSp</th>\n",
              "      <td>-0.057527</td>\n",
              "      <td>-0.035322</td>\n",
              "      <td>0.083081</td>\n",
              "      <td>-0.232625</td>\n",
              "      <td>1.000000</td>\n",
              "      <td>0.414838</td>\n",
              "      <td>0.159651</td>\n",
              "    </tr>\n",
              "    <tr>\n",
              "      <th>Parch</th>\n",
              "      <td>-0.001652</td>\n",
              "      <td>0.081629</td>\n",
              "      <td>0.018443</td>\n",
              "      <td>-0.179191</td>\n",
              "      <td>0.414838</td>\n",
              "      <td>1.000000</td>\n",
              "      <td>0.216225</td>\n",
              "    </tr>\n",
              "    <tr>\n",
              "      <th>Fare</th>\n",
              "      <td>0.012658</td>\n",
              "      <td>0.257307</td>\n",
              "      <td>-0.549500</td>\n",
              "      <td>0.091566</td>\n",
              "      <td>0.159651</td>\n",
              "      <td>0.216225</td>\n",
              "      <td>1.000000</td>\n",
              "    </tr>\n",
              "  </tbody>\n",
              "</table>\n",
              "</div>"
            ],
            "text/plain": [
              "             PassengerId  Survived    Pclass  ...     SibSp     Parch      Fare\n",
              "PassengerId     1.000000 -0.005007 -0.035144  ... -0.057527 -0.001652  0.012658\n",
              "Survived       -0.005007  1.000000 -0.338481  ... -0.035322  0.081629  0.257307\n",
              "Pclass         -0.035144 -0.338481  1.000000  ...  0.083081  0.018443 -0.549500\n",
              "Age             0.033207 -0.069809 -0.331339  ... -0.232625 -0.179191  0.091566\n",
              "SibSp          -0.057527 -0.035322  0.083081  ...  1.000000  0.414838  0.159651\n",
              "Parch          -0.001652  0.081629  0.018443  ...  0.414838  1.000000  0.216225\n",
              "Fare            0.012658  0.257307 -0.549500  ...  0.159651  0.216225  1.000000\n",
              "\n",
              "[7 rows x 7 columns]"
            ]
          },
          "metadata": {
            "tags": []
          },
          "execution_count": 15
        }
      ]
    },
    {
      "cell_type": "code",
      "metadata": {
        "id": "S14bITIT7_f7"
      },
      "source": [
        "test.drop(['Age'],axis=1,inplace=True)\n",
        "train.drop(['Age'],axis=1,inplace=True)"
      ],
      "execution_count": 16,
      "outputs": []
    },
    {
      "cell_type": "code",
      "metadata": {
        "id": "S6lGbQe1fJKO"
      },
      "source": [
        "test.drop(['Name'],axis=1,inplace=True)\n",
        "train.drop(['Name'],axis=1,inplace=True)"
      ],
      "execution_count": 17,
      "outputs": []
    },
    {
      "cell_type": "code",
      "metadata": {
        "colab": {
          "base_uri": "https://localhost:8080/"
        },
        "id": "tZw_JeoZVYMj",
        "outputId": "5a8cee3f-e62a-4d1a-bc39-debcbb9fe425"
      },
      "source": [
        "train.info()"
      ],
      "execution_count": 18,
      "outputs": [
        {
          "output_type": "stream",
          "text": [
            "<class 'pandas.core.frame.DataFrame'>\n",
            "RangeIndex: 891 entries, 0 to 890\n",
            "Data columns (total 11 columns):\n",
            " #   Column       Non-Null Count  Dtype   \n",
            "---  ------       --------------  -----   \n",
            " 0   PassengerId  891 non-null    int64   \n",
            " 1   Survived     891 non-null    int64   \n",
            " 2   Pclass       891 non-null    int64   \n",
            " 3   Sex          891 non-null    object  \n",
            " 4   SibSp        891 non-null    int64   \n",
            " 5   Parch        891 non-null    int64   \n",
            " 6   Ticket       891 non-null    object  \n",
            " 7   Fare         891 non-null    float64 \n",
            " 8   Cabin        204 non-null    object  \n",
            " 9   Embarked     889 non-null    object  \n",
            " 10  bin_age      891 non-null    category\n",
            "dtypes: category(1), float64(1), int64(5), object(4)\n",
            "memory usage: 71.5+ KB\n"
          ],
          "name": "stdout"
        }
      ]
    },
    {
      "cell_type": "code",
      "metadata": {
        "id": "RdFCujewWljR"
      },
      "source": [
        "#since ticket column is just ticket number, dropping this column\n",
        "train.drop(['Ticket'],inplace=True,axis=1)\n",
        "test.drop(['Ticket'],inplace=True,axis=1)"
      ],
      "execution_count": 19,
      "outputs": []
    },
    {
      "cell_type": "code",
      "metadata": {
        "id": "AQipoaY77Z71"
      },
      "source": [
        "#Similarly for Passenger ID coulmn\n",
        "train.drop(['PassengerId'],inplace=True,axis=1)\n",
        "test.drop(['PassengerId'],inplace=True,axis=1)"
      ],
      "execution_count": 20,
      "outputs": []
    },
    {
      "cell_type": "code",
      "metadata": {
        "id": "JVy5oMLHK7-V"
      },
      "source": [
        "#Similarly for Cabin coulmn\n",
        "train.drop(['Cabin'],inplace=True,axis=1)\n",
        "test.drop(['Cabin'],inplace=True,axis=1)"
      ],
      "execution_count": 21,
      "outputs": []
    },
    {
      "cell_type": "code",
      "metadata": {
        "colab": {
          "base_uri": "https://localhost:8080/",
          "height": 52
        },
        "id": "Y8pGrt_iZvGD",
        "outputId": "64a2c70d-a282-4393-d165-637f2d2f81d5"
      },
      "source": [
        "#Cabin has lot of missing values. lets fill it using backfill\n",
        "'''train['Cabin'].fillna(method='bfill',inplace=True)\n",
        "train['Cabin'].fillna(method='ffill',inplace=True)\n",
        "test['Cabin'].fillna(method='bfill',inplace=True)\n",
        "test['Cabin'].fillna(method='ffill',inplace=True)'''"
      ],
      "execution_count": 22,
      "outputs": [
        {
          "output_type": "execute_result",
          "data": {
            "application/vnd.google.colaboratory.intrinsic+json": {
              "type": "string"
            },
            "text/plain": [
              "\"train['Cabin'].fillna(method='bfill',inplace=True)\\ntrain['Cabin'].fillna(method='ffill',inplace=True)\\ntest['Cabin'].fillna(method='bfill',inplace=True)\\ntest['Cabin'].fillna(method='ffill',inplace=True)\""
            ]
          },
          "metadata": {
            "tags": []
          },
          "execution_count": 22
        }
      ]
    },
    {
      "cell_type": "code",
      "metadata": {
        "colab": {
          "base_uri": "https://localhost:8080/",
          "height": 35
        },
        "id": "otg6zjCsavet",
        "outputId": "661d7df4-0527-47b1-d631-a60f8bd51134"
      },
      "source": [
        "#will capture cabin type (B,C...) from Cabin column\n",
        "'''train['Cabin'] = train['Cabin'].str[:1]\n",
        "test['Cabin'] = test['Cabin'].str[:1]'''\n",
        "#I feel that brining in Cabin column has decreased my accuracy."
      ],
      "execution_count": 23,
      "outputs": [
        {
          "output_type": "execute_result",
          "data": {
            "application/vnd.google.colaboratory.intrinsic+json": {
              "type": "string"
            },
            "text/plain": [
              "\"train['Cabin'] = train['Cabin'].str[:1]\\ntest['Cabin'] = test['Cabin'].str[:1]\""
            ]
          },
          "metadata": {
            "tags": []
          },
          "execution_count": 23
        }
      ]
    },
    {
      "cell_type": "code",
      "metadata": {
        "colab": {
          "base_uri": "https://localhost:8080/",
          "height": 80
        },
        "id": "gzIUUQSgYB2H",
        "outputId": "e2395302-a906-4ed0-9490-a5bd63274068"
      },
      "source": [
        "#record with missing value in Fare column\n",
        "test[test.Fare.isnull()]"
      ],
      "execution_count": 24,
      "outputs": [
        {
          "output_type": "execute_result",
          "data": {
            "text/html": [
              "<div>\n",
              "<style scoped>\n",
              "    .dataframe tbody tr th:only-of-type {\n",
              "        vertical-align: middle;\n",
              "    }\n",
              "\n",
              "    .dataframe tbody tr th {\n",
              "        vertical-align: top;\n",
              "    }\n",
              "\n",
              "    .dataframe thead th {\n",
              "        text-align: right;\n",
              "    }\n",
              "</style>\n",
              "<table border=\"1\" class=\"dataframe\">\n",
              "  <thead>\n",
              "    <tr style=\"text-align: right;\">\n",
              "      <th></th>\n",
              "      <th>Pclass</th>\n",
              "      <th>Sex</th>\n",
              "      <th>SibSp</th>\n",
              "      <th>Parch</th>\n",
              "      <th>Fare</th>\n",
              "      <th>Embarked</th>\n",
              "      <th>bin_age</th>\n",
              "    </tr>\n",
              "  </thead>\n",
              "  <tbody>\n",
              "    <tr>\n",
              "      <th>152</th>\n",
              "      <td>3</td>\n",
              "      <td>male</td>\n",
              "      <td>0</td>\n",
              "      <td>0</td>\n",
              "      <td>NaN</td>\n",
              "      <td>S</td>\n",
              "      <td>(60, 65]</td>\n",
              "    </tr>\n",
              "  </tbody>\n",
              "</table>\n",
              "</div>"
            ],
            "text/plain": [
              "     Pclass   Sex  SibSp  Parch  Fare Embarked   bin_age\n",
              "152       3  male      0      0   NaN        S  (60, 65]"
            ]
          },
          "metadata": {
            "tags": []
          },
          "execution_count": 24
        }
      ]
    },
    {
      "cell_type": "code",
      "metadata": {
        "colab": {
          "base_uri": "https://localhost:8080/",
          "height": 296
        },
        "id": "3U_2kf0kYLEE",
        "outputId": "bb423716-ca4d-428c-f8dc-7f1fea2ba7f1"
      },
      "source": [
        "#lets check the relation between embargation port and Fare. \n",
        "#This is find that one missing fare value in Test dataset\n",
        "sns.barplot(x=train['Embarked'],y=train['Fare'])"
      ],
      "execution_count": 25,
      "outputs": [
        {
          "output_type": "execute_result",
          "data": {
            "text/plain": [
              "<matplotlib.axes._subplots.AxesSubplot at 0x7fb4ac2a3710>"
            ]
          },
          "metadata": {
            "tags": []
          },
          "execution_count": 25
        },
        {
          "output_type": "display_data",
          "data": {
            "image/png": "[encoded data removed]",
            "text/plain": [
              "<Figure size 432x288 with 1 Axes>"
            ]
          },
          "metadata": {
            "tags": [],
            "needs_background": "light"
          }
        }
      ]
    },
    {
      "cell_type": "code",
      "metadata": {
        "colab": {
          "base_uri": "https://localhost:8080/",
          "height": 173
        },
        "id": "t3a_FdQzY1kn",
        "outputId": "dc37b4de-e4fc-43a0-c5dd-539b142dcafa"
      },
      "source": [
        "#since Missing fare row is from passenger class 3\n",
        "#and there is high correlation between class and fare\n",
        "#we will impute the missing value as Mode of class 3 from Train set\n",
        "from scipy import stats\n",
        "train.groupby(['Pclass']).agg(stats.mode)"
      ],
      "execution_count": 26,
      "outputs": [
        {
          "output_type": "execute_result",
          "data": {
            "text/html": [
              "<div>\n",
              "<style scoped>\n",
              "    .dataframe tbody tr th:only-of-type {\n",
              "        vertical-align: middle;\n",
              "    }\n",
              "\n",
              "    .dataframe tbody tr th {\n",
              "        vertical-align: top;\n",
              "    }\n",
              "\n",
              "    .dataframe thead th {\n",
              "        text-align: right;\n",
              "    }\n",
              "</style>\n",
              "<table border=\"1\" class=\"dataframe\">\n",
              "  <thead>\n",
              "    <tr style=\"text-align: right;\">\n",
              "      <th></th>\n",
              "      <th>Survived</th>\n",
              "      <th>Sex</th>\n",
              "      <th>SibSp</th>\n",
              "      <th>Parch</th>\n",
              "      <th>Fare</th>\n",
              "      <th>Embarked</th>\n",
              "      <th>bin_age</th>\n",
              "    </tr>\n",
              "    <tr>\n",
              "      <th>Pclass</th>\n",
              "      <th></th>\n",
              "      <th></th>\n",
              "      <th></th>\n",
              "      <th></th>\n",
              "      <th></th>\n",
              "      <th></th>\n",
              "      <th></th>\n",
              "    </tr>\n",
              "  </thead>\n",
              "  <tbody>\n",
              "    <tr>\n",
              "      <th>1</th>\n",
              "      <td>([1], [136])</td>\n",
              "      <td>([male], [122])</td>\n",
              "      <td>([0], [137])</td>\n",
              "      <td>([0], [163])</td>\n",
              "      <td>([26.55], [15])</td>\n",
              "      <td>([S], [127])</td>\n",
              "      <td>([(25, 30]], [49])</td>\n",
              "    </tr>\n",
              "    <tr>\n",
              "      <th>2</th>\n",
              "      <td>([0], [97])</td>\n",
              "      <td>([male], [108])</td>\n",
              "      <td>([0], [120])</td>\n",
              "      <td>([0], [134])</td>\n",
              "      <td>([13.0], [42])</td>\n",
              "      <td>([S], [164])</td>\n",
              "      <td>([(25, 30]], [42])</td>\n",
              "    </tr>\n",
              "    <tr>\n",
              "      <th>3</th>\n",
              "      <td>([0], [372])</td>\n",
              "      <td>([male], [347])</td>\n",
              "      <td>([0], [351])</td>\n",
              "      <td>([0], [381])</td>\n",
              "      <td>([8.05], [43])</td>\n",
              "      <td>([S], [353])</td>\n",
              "      <td>([(25, 30]], [194])</td>\n",
              "    </tr>\n",
              "  </tbody>\n",
              "</table>\n",
              "</div>"
            ],
            "text/plain": [
              "            Survived              Sex  ...      Embarked              bin_age\n",
              "Pclass                                 ...                                   \n",
              "1       ([1], [136])  ([male], [122])  ...  ([S], [127])   ([(25, 30]], [49])\n",
              "2        ([0], [97])  ([male], [108])  ...  ([S], [164])   ([(25, 30]], [42])\n",
              "3       ([0], [372])  ([male], [347])  ...  ([S], [353])  ([(25, 30]], [194])\n",
              "\n",
              "[3 rows x 7 columns]"
            ]
          },
          "metadata": {
            "tags": []
          },
          "execution_count": 26
        }
      ]
    },
    {
      "cell_type": "code",
      "metadata": {
        "id": "UivsZXQkbsz2"
      },
      "source": [
        "test['Fare'].fillna(8.05,inplace=True)"
      ],
      "execution_count": 27,
      "outputs": []
    },
    {
      "cell_type": "code",
      "metadata": {
        "colab": {
          "base_uri": "https://localhost:8080/"
        },
        "id": "I0w7-sau7TV7",
        "outputId": "948a0c30-66af-4a73-dd40-56e775a80c18"
      },
      "source": [
        "test.info()"
      ],
      "execution_count": 28,
      "outputs": [
        {
          "output_type": "stream",
          "text": [
            "<class 'pandas.core.frame.DataFrame'>\n",
            "RangeIndex: 418 entries, 0 to 417\n",
            "Data columns (total 7 columns):\n",
            " #   Column    Non-Null Count  Dtype   \n",
            "---  ------    --------------  -----   \n",
            " 0   Pclass    418 non-null    int64   \n",
            " 1   Sex       418 non-null    object  \n",
            " 2   SibSp     418 non-null    int64   \n",
            " 3   Parch     418 non-null    int64   \n",
            " 4   Fare      418 non-null    float64 \n",
            " 5   Embarked  418 non-null    object  \n",
            " 6   bin_age   418 non-null    category\n",
            "dtypes: category(1), float64(1), int64(3), object(2)\n",
            "memory usage: 21.0+ KB\n"
          ],
          "name": "stdout"
        }
      ]
    },
    {
      "cell_type": "code",
      "metadata": {
        "colab": {
          "base_uri": "https://localhost:8080/"
        },
        "id": "UZiggjhC7YKu",
        "outputId": "98bea640-5d11-483e-b729-ca7a963f7798"
      },
      "source": [
        "train.info()"
      ],
      "execution_count": 29,
      "outputs": [
        {
          "output_type": "stream",
          "text": [
            "<class 'pandas.core.frame.DataFrame'>\n",
            "RangeIndex: 891 entries, 0 to 890\n",
            "Data columns (total 8 columns):\n",
            " #   Column    Non-Null Count  Dtype   \n",
            "---  ------    --------------  -----   \n",
            " 0   Survived  891 non-null    int64   \n",
            " 1   Pclass    891 non-null    int64   \n",
            " 2   Sex       891 non-null    object  \n",
            " 3   SibSp     891 non-null    int64   \n",
            " 4   Parch     891 non-null    int64   \n",
            " 5   Fare      891 non-null    float64 \n",
            " 6   Embarked  889 non-null    object  \n",
            " 7   bin_age   891 non-null    category\n",
            "dtypes: category(1), float64(1), int64(4), object(2)\n",
            "memory usage: 50.6+ KB\n"
          ],
          "name": "stdout"
        }
      ]
    },
    {
      "cell_type": "code",
      "metadata": {
        "id": "QrE64a-eDaX-"
      },
      "source": [
        "#dropping two rows with missing data in Embarked Column\n",
        "train.dropna(subset=['Embarked'],inplace=True)"
      ],
      "execution_count": 30,
      "outputs": []
    },
    {
      "cell_type": "code",
      "metadata": {
        "colab": {
          "base_uri": "https://localhost:8080/",
          "height": 52
        },
        "id": "FE23JZZdqgA2",
        "outputId": "2c0f534f-1c06-44f6-abe6-b696380507c6"
      },
      "source": [
        "#encode variable using LabelEncoder\n",
        "'''def lblfn(cl):\n",
        "  lb = LabelEncoder()\n",
        "  lb = lb.fit(train[cl])\n",
        "  train[cl] = lb.transform(train[cl])\n",
        "  test[cl] = lb.transform(test[cl])\n",
        "  print(cl,' encoded')\n",
        "\n",
        "#lblfn('Embarked')\n",
        "lblfn('Sex')\n",
        "lblfn('Cabin')\n",
        "#lblfn('bin_age')'''"
      ],
      "execution_count": 31,
      "outputs": [
        {
          "output_type": "execute_result",
          "data": {
            "application/vnd.google.colaboratory.intrinsic+json": {
              "type": "string"
            },
            "text/plain": [
              "\"def lblfn(cl):\\n  lb = LabelEncoder()\\n  lb = lb.fit(train[cl])\\n  train[cl] = lb.transform(train[cl])\\n  test[cl] = lb.transform(test[cl])\\n  print(cl,' encoded')\\n\\n#lblfn('Embarked')\\nlblfn('Sex')\\nlblfn('Cabin')\\n#lblfn('bin_age')\""
            ]
          },
          "metadata": {
            "tags": []
          },
          "execution_count": 31
        }
      ]
    },
    {
      "cell_type": "code",
      "metadata": {
        "id": "MgbKWKAb7304"
      },
      "source": [
        "#lets create dummy variables\n",
        "train = pd.get_dummies(train,drop_first=True)\n",
        "test = pd.get_dummies(test,drop_first=True)"
      ],
      "execution_count": 32,
      "outputs": []
    },
    {
      "cell_type": "code",
      "metadata": {
        "colab": {
          "base_uri": "https://localhost:8080/"
        },
        "id": "x2AaQnbAj7Da",
        "outputId": "08695668-0a24-4670-db56-3e2ca8b5fa51"
      },
      "source": [
        "train.info()"
      ],
      "execution_count": 33,
      "outputs": [
        {
          "output_type": "stream",
          "text": [
            "<class 'pandas.core.frame.DataFrame'>\n",
            "Int64Index: 889 entries, 0 to 890\n",
            "Data columns (total 23 columns):\n",
            " #   Column            Non-Null Count  Dtype  \n",
            "---  ------            --------------  -----  \n",
            " 0   Survived          889 non-null    int64  \n",
            " 1   Pclass            889 non-null    int64  \n",
            " 2   SibSp             889 non-null    int64  \n",
            " 3   Parch             889 non-null    int64  \n",
            " 4   Fare              889 non-null    float64\n",
            " 5   Sex_male          889 non-null    uint8  \n",
            " 6   Embarked_Q        889 non-null    uint8  \n",
            " 7   Embarked_S        889 non-null    uint8  \n",
            " 8   bin_age_(5, 10]   889 non-null    uint8  \n",
            " 9   bin_age_(10, 15]  889 non-null    uint8  \n",
            " 10  bin_age_(15, 20]  889 non-null    uint8  \n",
            " 11  bin_age_(20, 25]  889 non-null    uint8  \n",
            " 12  bin_age_(25, 30]  889 non-null    uint8  \n",
            " 13  bin_age_(30, 35]  889 non-null    uint8  \n",
            " 14  bin_age_(35, 40]  889 non-null    uint8  \n",
            " 15  bin_age_(40, 45]  889 non-null    uint8  \n",
            " 16  bin_age_(45, 50]  889 non-null    uint8  \n",
            " 17  bin_age_(50, 55]  889 non-null    uint8  \n",
            " 18  bin_age_(55, 60]  889 non-null    uint8  \n",
            " 19  bin_age_(60, 65]  889 non-null    uint8  \n",
            " 20  bin_age_(65, 70]  889 non-null    uint8  \n",
            " 21  bin_age_(70, 75]  889 non-null    uint8  \n",
            " 22  bin_age_(75, 80]  889 non-null    uint8  \n",
            "dtypes: float64(1), int64(4), uint8(18)\n",
            "memory usage: 57.3 KB\n"
          ],
          "name": "stdout"
        }
      ]
    },
    {
      "cell_type": "code",
      "metadata": {
        "colab": {
          "base_uri": "https://localhost:8080/"
        },
        "id": "5jySz3vSmOTq",
        "outputId": "fa028e30-a606-4aad-829e-f435e8779898"
      },
      "source": [
        "test.info()"
      ],
      "execution_count": 34,
      "outputs": [
        {
          "output_type": "stream",
          "text": [
            "<class 'pandas.core.frame.DataFrame'>\n",
            "RangeIndex: 418 entries, 0 to 417\n",
            "Data columns (total 22 columns):\n",
            " #   Column            Non-Null Count  Dtype  \n",
            "---  ------            --------------  -----  \n",
            " 0   Pclass            418 non-null    int64  \n",
            " 1   SibSp             418 non-null    int64  \n",
            " 2   Parch             418 non-null    int64  \n",
            " 3   Fare              418 non-null    float64\n",
            " 4   Sex_male          418 non-null    uint8  \n",
            " 5   Embarked_Q        418 non-null    uint8  \n",
            " 6   Embarked_S        418 non-null    uint8  \n",
            " 7   bin_age_(5, 10]   418 non-null    uint8  \n",
            " 8   bin_age_(10, 15]  418 non-null    uint8  \n",
            " 9   bin_age_(15, 20]  418 non-null    uint8  \n",
            " 10  bin_age_(20, 25]  418 non-null    uint8  \n",
            " 11  bin_age_(25, 30]  418 non-null    uint8  \n",
            " 12  bin_age_(30, 35]  418 non-null    uint8  \n",
            " 13  bin_age_(35, 40]  418 non-null    uint8  \n",
            " 14  bin_age_(40, 45]  418 non-null    uint8  \n",
            " 15  bin_age_(45, 50]  418 non-null    uint8  \n",
            " 16  bin_age_(50, 55]  418 non-null    uint8  \n",
            " 17  bin_age_(55, 60]  418 non-null    uint8  \n",
            " 18  bin_age_(60, 65]  418 non-null    uint8  \n",
            " 19  bin_age_(65, 70]  418 non-null    uint8  \n",
            " 20  bin_age_(70, 75]  418 non-null    uint8  \n",
            " 21  bin_age_(75, 80]  418 non-null    uint8  \n",
            "dtypes: float64(1), int64(3), uint8(18)\n",
            "memory usage: 20.5 KB\n"
          ],
          "name": "stdout"
        }
      ]
    },
    {
      "cell_type": "code",
      "metadata": {
        "id": "TsPD5uE3nEq9"
      },
      "source": [
        "y = train.iloc[:,0]\n",
        "x = train.iloc[:,1:]"
      ],
      "execution_count": 35,
      "outputs": []
    },
    {
      "cell_type": "code",
      "metadata": {
        "id": "LSfxTFzDgCYS"
      },
      "source": [
        "x = StandardScaler().fit_transform(x)\n",
        "train = StandardScaler().fit_transform(train)"
      ],
      "execution_count": 36,
      "outputs": []
    },
    {
      "cell_type": "code",
      "metadata": {
        "id": "aDC8kOWxF0F0"
      },
      "source": [
        "#lets use stratified K fold for validation\n",
        "from sklearn.model_selection import StratifiedKFold\n",
        "skf = StratifiedKFold(n_splits=10,shuffle=True,random_state=42)"
      ],
      "execution_count": 37,
      "outputs": []
    },
    {
      "cell_type": "code",
      "metadata": {
        "colab": {
          "base_uri": "https://localhost:8080/"
        },
        "id": "4Uq5V5YeGZsW",
        "outputId": "b9e91609-c947-483d-dda5-f28fc27ba017"
      },
      "source": [
        "import warnings\n",
        "warnings.filterwarnings('ignore')\n",
        "from sklearn.linear_model import LogisticRegression\n",
        "classifier = LogisticRegression(class_weight='balanced',random_state=42)\n",
        "itr = 0\n",
        "scores = []\n",
        "for train_idx,test_idx in skf.split(x,y):\n",
        "  #print(train_idx)\n",
        "  x_train,x_test = x[train_idx],x[test_idx]\n",
        "  y_train,y_test = y.iloc[train_idx],y.iloc[test_idx]\n",
        "  classifier.fit(x_train,y_train)\n",
        "  pred_y = classifier.predict(x_test)\n",
        "  scoree = accuracy_score(y_test,pred_y)\n",
        "  print('Accuracy Score of ',str(itr),' itration is ',scoree)\n",
        "  scores.append(scoree)\n",
        "  itr += 1\n",
        "scores = np.array(scores)\n",
        "print('Mean of Scores is using Logistic Regression',scores.mean())"
      ],
      "execution_count": 38,
      "outputs": [
        {
          "output_type": "stream",
          "text": [
            "Accuracy Score of  0  itration is  0.8089887640449438\n",
            "Accuracy Score of  1  itration is  0.7640449438202247\n",
            "Accuracy Score of  2  itration is  0.7640449438202247\n",
            "Accuracy Score of  3  itration is  0.8539325842696629\n",
            "Accuracy Score of  4  itration is  0.7528089887640449\n",
            "Accuracy Score of  5  itration is  0.8426966292134831\n",
            "Accuracy Score of  6  itration is  0.797752808988764\n",
            "Accuracy Score of  7  itration is  0.8314606741573034\n",
            "Accuracy Score of  8  itration is  0.7865168539325843\n",
            "Accuracy Score of  9  itration is  0.7954545454545454\n",
            "Mean of Scores is using Logistic Regression 0.799770173646578\n"
          ],
          "name": "stdout"
        }
      ]
    },
    {
      "cell_type": "code",
      "metadata": {
        "colab": {
          "base_uri": "https://localhost:8080/"
        },
        "id": "92KHok_iRcbM",
        "outputId": "0988b37c-5794-48ad-907f-0ac6feafd8f1"
      },
      "source": [
        "from sklearn.tree import DecisionTreeClassifier\n",
        "deciclass = DecisionTreeClassifier(random_state=42,class_weight='balanced')\n",
        "itr = 0\n",
        "scores = []\n",
        "for train_idx,test_idx in skf.split(x,y):\n",
        "  #print(train_idx)\n",
        "  x_train,x_test = x[train_idx],x[test_idx]\n",
        "  y_train,y_test = y.iloc[train_idx],y.iloc[test_idx]\n",
        "  deciclass.fit(x_train,y_train)\n",
        "  pred_y = deciclass.predict(x_test)\n",
        "  scoree = accuracy_score(y_test,pred_y)\n",
        "  print('Accuracy Score of ',str(itr),' itration is ',scoree)\n",
        "  scores.append(scoree)\n",
        "  itr += 1\n",
        "scores = np.array(scores)\n",
        "print('Mean of Scores is using Decision Tree Classifier',scores.mean())"
      ],
      "execution_count": 39,
      "outputs": [
        {
          "output_type": "stream",
          "text": [
            "Accuracy Score of  0  itration is  0.8426966292134831\n",
            "Accuracy Score of  1  itration is  0.8089887640449438\n",
            "Accuracy Score of  2  itration is  0.7303370786516854\n",
            "Accuracy Score of  3  itration is  0.6853932584269663\n",
            "Accuracy Score of  4  itration is  0.7191011235955056\n",
            "Accuracy Score of  5  itration is  0.6853932584269663\n",
            "Accuracy Score of  6  itration is  0.797752808988764\n",
            "Accuracy Score of  7  itration is  0.7415730337078652\n",
            "Accuracy Score of  8  itration is  0.7303370786516854\n",
            "Accuracy Score of  9  itration is  0.8068181818181818\n",
            "Mean of Scores is using Decision Tree Classifier 0.7548391215526047\n"
          ],
          "name": "stdout"
        }
      ]
    },
    {
      "cell_type": "code",
      "metadata": {
        "colab": {
          "base_uri": "https://localhost:8080/"
        },
        "id": "KVng4D2qSAQW",
        "outputId": "f779e249-44c3-49ed-b865-5bcc5facc5dd"
      },
      "source": [
        "#let see if we can increase accuray using Random Forest\n",
        "from sklearn.ensemble import RandomForestClassifier\n",
        "clsswt = {0:1,1:3} #using this class weight, accuracy increased\n",
        "rndfrst = RandomForestClassifier(random_state=42,class_weight=clsswt)\n",
        "itr = 0\n",
        "scores = []\n",
        "for train_idx,test_idx in skf.split(x,y):\n",
        "  #print(train_idx)\n",
        "  x_train,x_test = x[train_idx],x[test_idx]\n",
        "  y_train,y_test = y.iloc[train_idx],y.iloc[test_idx]\n",
        "  rndfrst.fit(x_train,y_train)\n",
        "  pred_y = rndfrst.predict(x_test)\n",
        "  scoree = accuracy_score(y_test,pred_y)\n",
        "  print('Accuracy Score of ',str(itr),' itration is ',scoree)\n",
        "  scores.append(scoree)\n",
        "  itr += 1\n",
        "scores = np.array(scores)\n",
        "print('Mean of Scores using Random Forest Classifier',scores.mean())"
      ],
      "execution_count": 40,
      "outputs": [
        {
          "output_type": "stream",
          "text": [
            "Accuracy Score of  0  itration is  0.797752808988764\n",
            "Accuracy Score of  1  itration is  0.8314606741573034\n",
            "Accuracy Score of  2  itration is  0.7528089887640449\n",
            "Accuracy Score of  3  itration is  0.7640449438202247\n",
            "Accuracy Score of  4  itration is  0.7640449438202247\n",
            "Accuracy Score of  5  itration is  0.7191011235955056\n",
            "Accuracy Score of  6  itration is  0.7865168539325843\n",
            "Accuracy Score of  7  itration is  0.8314606741573034\n",
            "Accuracy Score of  8  itration is  0.7752808988764045\n",
            "Accuracy Score of  9  itration is  0.8295454545454546\n",
            "Mean of Scores using Random Forest Classifier 0.7852017364657815\n"
          ],
          "name": "stdout"
        }
      ]
    },
    {
      "cell_type": "code",
      "metadata": {
        "colab": {
          "base_uri": "https://localhost:8080/"
        },
        "id": "jDj5J7mCTtWU",
        "outputId": "8a52b23b-ae4c-482d-a516-95cc5da6c854"
      },
      "source": [
        "#lets try SMOTE technique\n",
        "from imblearn.over_sampling import SMOTE\n",
        "smote = SMOTE()\n",
        "x_smote,y_smote = smote.fit_resample(x,y)\n",
        "\n",
        "from sklearn.ensemble import RandomForestClassifier\n",
        "clsswt = {0:1,1:15} #using this class weight, accuracy increased\n",
        "rndfrst = RandomForestClassifier(random_state=42,class_weight=clsswt)\n",
        "itr = 0\n",
        "scores = []\n",
        "for train_idx,test_idx in skf.split(x_smote,y_smote):\n",
        "  #print(train_idx)\n",
        "  x_train,x_test = x_smote[train_idx],x_smote[test_idx]\n",
        "  y_train,y_test = y_smote[train_idx],y_smote[test_idx]\n",
        "  rndfrst.fit(x_train,y_train)\n",
        "  pred_y = rndfrst.predict(x_test)\n",
        "  scoree = accuracy_score(y_test,pred_y)\n",
        "  print('Accuracy Score of ',str(itr),' itration is ',scoree)\n",
        "  scores.append(scoree)\n",
        "  itr += 1\n",
        "scores = np.array(scores)\n",
        "print('Mean of Scores using Random Forest Classifier',scores.mean())"
      ],
      "execution_count": 41,
      "outputs": [
        {
          "output_type": "stream",
          "text": [
            "Accuracy Score of  0  itration is  0.8\n",
            "Accuracy Score of  1  itration is  0.8090909090909091\n",
            "Accuracy Score of  2  itration is  0.7909090909090909\n",
            "Accuracy Score of  3  itration is  0.7636363636363637\n",
            "Accuracy Score of  4  itration is  0.8272727272727273\n",
            "Accuracy Score of  5  itration is  0.7363636363636363\n",
            "Accuracy Score of  6  itration is  0.7818181818181819\n",
            "Accuracy Score of  7  itration is  0.7727272727272727\n",
            "Accuracy Score of  8  itration is  0.8073394495412844\n",
            "Accuracy Score of  9  itration is  0.8532110091743119\n",
            "Mean of Scores using Random Forest Classifier 0.7942368640533778\n"
          ],
          "name": "stdout"
        }
      ]
    },
    {
      "cell_type": "code",
      "metadata": {
        "colab": {
          "base_uri": "https://localhost:8080/"
        },
        "id": "DSR-xvHidaPw",
        "outputId": "d97aea6f-4a81-40ff-b0a6-50c00c1c4f2c"
      },
      "source": [
        "from sklearn.svm import SVC\n",
        "clsswt = {0:1,1:3} #using this class weight, accuracy increased\n",
        "svc = SVC(random_state=42,class_weight='balanced')\n",
        "itr = 0\n",
        "scores = []\n",
        "for train_idx,test_idx in skf.split(x,y):\n",
        "  #print(train_idx)\n",
        "  x_train,x_test = x[train_idx],x[test_idx]\n",
        "  y_train,y_test = y.iloc[train_idx],y.iloc[test_idx]\n",
        "  svc.fit(x_train,y_train)\n",
        "  pred_y = svc.predict(x_test)\n",
        "  scoree = accuracy_score(y_test,pred_y)\n",
        "  print('Accuracy Score of ',str(itr),' itration is ',scoree)\n",
        "  scores.append(scoree)\n",
        "  itr += 1\n",
        "scores = np.array(scores)\n",
        "print('Mean of Scores using SV Classifier',scores.mean())"
      ],
      "execution_count": 42,
      "outputs": [
        {
          "output_type": "stream",
          "text": [
            "Accuracy Score of  0  itration is  0.8651685393258427\n",
            "Accuracy Score of  1  itration is  0.797752808988764\n",
            "Accuracy Score of  2  itration is  0.7865168539325843\n",
            "Accuracy Score of  3  itration is  0.8089887640449438\n",
            "Accuracy Score of  4  itration is  0.7865168539325843\n",
            "Accuracy Score of  5  itration is  0.797752808988764\n",
            "Accuracy Score of  6  itration is  0.8089887640449438\n",
            "Accuracy Score of  7  itration is  0.8651685393258427\n",
            "Accuracy Score of  8  itration is  0.797752808988764\n",
            "Accuracy Score of  9  itration is  0.8181818181818182\n",
            "Mean of Scores using SV Classifier 0.8132788559754852\n"
          ],
          "name": "stdout"
        }
      ]
    },
    {
      "cell_type": "code",
      "metadata": {
        "colab": {
          "base_uri": "https://localhost:8080/"
        },
        "id": "S4B_TfvzV81V",
        "outputId": "87802cc7-fd96-4821-afbd-dff5ea2d8cd0"
      },
      "source": [
        "#lets train mode on smote data sets\n",
        "rndfrst.fit(x,y)"
      ],
      "execution_count": 52,
      "outputs": [
        {
          "output_type": "execute_result",
          "data": {
            "text/plain": [
              "SVC(C=1.0, break_ties=False, cache_size=200, class_weight='balanced', coef0=0.0,\n",
              "    decision_function_shape='ovr', degree=3, gamma='scale', kernel='rbf',\n",
              "    max_iter=-1, probability=False, random_state=42, shrinking=True, tol=0.001,\n",
              "    verbose=False)"
            ]
          },
          "metadata": {
            "tags": []
          },
          "execution_count": 52
        }
      ]
    },
    {
      "cell_type": "code",
      "metadata": {
        "id": "ajkcE_hhznRZ"
      },
      "source": [
        "#function to predict output using any new predictor and write same in submission file\n",
        "def predwrite(mdl,name):\n",
        "  test_pred = mdl.predict(test)\n",
        "  output = pd.DataFrame({'PassengerId':test_orig.PassengerId,'Survived':test_pred})\n",
        "  file_name = 'my_submission_' + name + '.csv'\n",
        "  output.to_csv(file_name,index=False)"
      ],
      "execution_count": 44,
      "outputs": []
    },
    {
      "cell_type": "code",
      "metadata": {
        "id": "5Uksrxrj2lts"
      },
      "source": [
        "predwrite(rndfrst,'rndfrst')"
      ],
      "execution_count": 55,
      "outputs": []
    },
    {
      "cell_type": "markdown",
      "metadata": {
        "id": "IS2afGRTNY7x"
      },
      "source": [
        "Got best score from Random Forest along with SMOTE"
      ]
    }
  ]
}